{
 "cells": [
  {
   "cell_type": "markdown",
   "metadata": {},
   "source": [
    "Q1. What is multithreading in python? Why is it used? Name the module used to handle threads in python."
   ]
  },
  {
   "cell_type": "markdown",
   "metadata": {},
   "source": [
    "    Multithreading is a technique which allows a CPU to execute many tasks of one process at the same time. \n",
    "    These threads can execute individually while sharing their process resources.\n",
    "\n",
    "    Multithreading allows you to break down an application into multiple sub-tasks and run these tasks simultaneously.\n",
    "    If you use multithreading properly, your application speed, performance, and rendering can all be improved.\n",
    "\n",
    "    There are two main modules which can be used to handle threads in Python:\n",
    "\n",
    "        1.The thread module\n",
    "        2.The threading module\n",
    "\n"
   ]
  },
  {
   "cell_type": "markdown",
   "metadata": {},
   "source": [
    "Q2. Why threading module used? Write the use of the following functions\n",
    "activeCount()\n",
    "currentThread()\n",
    "enumerate()"
   ]
  },
  {
   "cell_type": "markdown",
   "metadata": {},
   "source": [
    "    Creating Thread Using Threading Module\n",
    "    To implement a new thread using the threading module\n",
    "    \n",
    "    threading.activeCount() − Returns the number of thread objects that are active.\n",
    "    threading.currentThread() − Returns the number of thread objects in the caller's thread control.\n",
    "    threading.enumerate() − Returns a list of all thread objects that are currently active.\n"
   ]
  },
  {
   "cell_type": "markdown",
   "metadata": {},
   "source": [
    "Q3. Explain the following functions\n",
    "    1. run()\n",
    "    2. start()\n",
    "    3. join()\n",
    "    4. isAlive()\n",
    "    5. getName()\n",
    "    6. setName() "
   ]
  },
  {
   "cell_type": "markdown",
   "metadata": {},
   "source": [
    " run()  − The run() method is the entry point for a thread.\n",
    " \n",
    " start()  − The start() method starts a thread by calling the run method.\n",
    " \n",
    " join()  − The join() waits for threads to terminate.\n",
    " \n",
    " isAlive()  − The isAlive() method checks whether a thread is still executing.\n",
    " \n",
    " getName()  − The getName() method returns the name of a thread.\n",
    " \n",
    " setName()  − The setName() method sets the name of a thread."
   ]
  },
  {
   "cell_type": "markdown",
   "metadata": {},
   "source": [
    "Q4. Write a python program to create two threads. Thread one must print the list of squares and thread\n",
    "two must print the list of cubes."
   ]
  },
  {
   "cell_type": "code",
   "execution_count": 22,
   "metadata": {},
   "outputs": [],
   "source": [
    "import threading"
   ]
  },
  {
   "cell_type": "code",
   "execution_count": 23,
   "metadata": {},
   "outputs": [],
   "source": [
    "def squares(lst):\n",
    "    l=list(map(lambda x:x**2,lst))\n",
    "    print(l)\n",
    "\n",
    "def cubes(lst):\n",
    "    l=list(map(lambda x:x**3,lst))\n",
    "    print(l)"
   ]
  },
  {
   "cell_type": "code",
   "execution_count": 24,
   "metadata": {},
   "outputs": [
    {
     "name": "stdout",
     "output_type": "stream",
     "text": [
      "[1, 4, 9, 16, 25, 36, 49, 64, 81]\n",
      "[1, 8, 27, 64, 125, 216, 343, 512, 729]\n"
     ]
    }
   ],
   "source": [
    "if __name__=='__main__':\n",
    "    \n",
    "    lst=list(range(1,10))\n",
    "    p1=threading.Thread(target=squares,args=(lst,))\n",
    "    p2=threading.Thread(  target=cubes,args=(lst,))\n",
    "    \n",
    "    p1.start()\n",
    "    p2.start()\n",
    "    \n",
    "    p1.join()\n",
    "    p2.join()\n",
    "    \n",
    "    \n"
   ]
  },
  {
   "cell_type": "markdown",
   "metadata": {},
   "source": [
    "Q5. State advantages and disadvantages of multithreading."
   ]
  },
  {
   "cell_type": "markdown",
   "metadata": {},
   "source": [
    "Advantages of Multithreading\n",
    "\n",
    "1. Responsiveness\n",
    "\n",
    "    Multithreading in an interactive application enables a program to continue running even \n",
    "    if a section is blocked or executing a lengthy process,increasing user responsiveness.\n",
    "\n",
    "\n",
    "2. Resource Sharing\n",
    "\n",
    "    Processes can only share the resources\n",
    "    \n",
    "\n",
    "3. Economy\n",
    "\n",
    "    Allocating memory and resources for process creation is an expensive procedure because it is a time and space-consuming task\n",
    "    \n",
    "    \n",
    "4. Better Communication\n",
    "    sharing huge amounts of data across multiple threads of execution inside the same address space provides extremely high-bandwidth, low-latency communication across various tasks within an application."
   ]
  },
  {
   "cell_type": "markdown",
   "metadata": {},
   "source": [
    "Disadvantages of Multithreading\n",
    "\n",
    "There are various disadvantages of multithreading in the operating system, and \n",
    "some of the disadvantages are as follows:\n",
    "\n",
    "    It needs more careful synchronization.\n",
    "    It can consume a large space of stocks of blocked threads.\n",
    "    It needs support for thread or process.\n",
    "    If a parent process has several threads for proper process functioning, the child processes should also be \n",
    "    multithreaded because they may be required.\n",
    "    It imposes context switching overhead.\n"
   ]
  },
  {
   "cell_type": "markdown",
   "metadata": {},
   "source": [
    "Q6. Explain deadlocks and race conditions."
   ]
  },
  {
   "cell_type": "markdown",
   "metadata": {},
   "source": [
    "What is a Dead Lock?\n",
    "\n",
    "When two processes are waiting for each other directly or indirectly, it is called deadlock."
   ]
  },
  {
   "cell_type": "markdown",
   "metadata": {},
   "source": [
    "What is a Race Condition?\n",
    "\n",
    "When two processes are competing with each other causing data corruption.race condition"
   ]
  }
 ],
 "metadata": {
  "kernelspec": {
   "display_name": "Python 3",
   "language": "python",
   "name": "python3"
  },
  "language_info": {
   "codemirror_mode": {
    "name": "ipython",
    "version": 3
   },
   "file_extension": ".py",
   "mimetype": "text/x-python",
   "name": "python",
   "nbconvert_exporter": "python",
   "pygments_lexer": "ipython3",
   "version": "3.6.5"
  }
 },
 "nbformat": 4,
 "nbformat_minor": 2
}
